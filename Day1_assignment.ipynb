{
  "cells": [
    {
      "cell_type": "markdown",
      "metadata": {
        "id": "view-in-github",
        "colab_type": "text"
      },
      "source": [
        "<a href=\"https://colab.research.google.com/github/saloni-pendam/Content/blob/main/Day1_assignment.ipynb\" target=\"_parent\"><img src=\"https://colab.research.google.com/assets/colab-badge.svg\" alt=\"Open In Colab\"/></a>"
      ]
    },
    {
      "cell_type": "markdown",
      "metadata": {
        "id": "eh5Ph74_HqpD"
      },
      "source": [
        "## how would you confimm that two strings have the same identity?"
      ]
    },
    {
      "cell_type": "code",
      "execution_count": 1,
      "metadata": {
        "colab": {
          "base_uri": "https://localhost:8080/"
        },
        "id": "oERbt__VktUg",
        "outputId": "3598229f-5eda-46c4-d32a-e87e475e9c20"
      },
      "outputs": [
        {
          "output_type": "stream",
          "name": "stdout",
          "text": [
            "Both the strings are not of same identity\n"
          ]
        }
      ],
      "source": [
        "str1=\"Hello\"\n",
        "str2=\"World\"\n",
        "if str1 is str2:\n",
        "  print('Both the strings have the same identity')\n",
        "else:\n",
        "  print('Both the strings are not of same identity')"
      ]
    },
    {
      "cell_type": "markdown",
      "metadata": {
        "id": "xSfXJRgVHKOB"
      },
      "source": [
        "How to find the length and index of the string?"
      ]
    },
    {
      "cell_type": "code",
      "execution_count": 3,
      "metadata": {
        "colab": {
          "base_uri": "https://localhost:8080/"
        },
        "id": "cuEJ9hZ_S4df",
        "outputId": "5a0e9b98-2f07-4c85-98f8-8b94becbdff0"
      },
      "outputs": [
        {
          "output_type": "stream",
          "name": "stdout",
          "text": [
            "The length of string is: 15\n",
            "The index of \"a\" is: 1\n"
          ]
        }
      ],
      "source": [
        "str=\"Have a nice day\"\n",
        "print('The length of string is:',len(str))\n",
        "print('The index of \"a\" is:',str.index('a'))"
      ]
    },
    {
      "cell_type": "markdown",
      "metadata": {
        "id": "EGK-LzalIO_i"
      },
      "source": [
        "## how to check a string contain a specific substring"
      ]
    },
    {
      "cell_type": "code",
      "execution_count": 4,
      "metadata": {
        "colab": {
          "base_uri": "https://localhost:8080/"
        },
        "id": "g1HYIC9gJ7Vi",
        "outputId": "a6b6faef-ae41-4616-c050-d80917d967c6"
      },
      "outputs": [
        {
          "output_type": "stream",
          "name": "stdout",
          "text": [
            "Yes\n"
          ]
        }
      ],
      "source": [
        "str1=\"They are walking outside\"\n",
        "str2=\"are\"\n",
        "if str2 in str1:\n",
        "  print('Yes')\n",
        "else:\n",
        "  print('No')\n"
      ]
    },
    {
      "cell_type": "markdown",
      "metadata": {
        "id": "LmY6RXjoJF9h"
      },
      "source": [
        "## how to a take a string from backward with two step difference?\n"
      ]
    },
    {
      "cell_type": "code",
      "execution_count": 5,
      "metadata": {
        "colab": {
          "base_uri": "https://localhost:8080/"
        },
        "id": "_C_pqVqBJ8AA",
        "outputId": "1f34c377-5e95-455e-b588-18c1b3d5959a"
      },
      "outputs": [
        {
          "output_type": "stream",
          "name": "stdout",
          "text": [
            "olH\n"
          ]
        }
      ],
      "source": [
        "str=\"Hello\"\n",
        "print(str[::-2])"
      ]
    },
    {
      "cell_type": "markdown",
      "metadata": {
        "id": "7eg6JfyuJr_2"
      },
      "source": [
        "## how to find the index of the last element"
      ]
    },
    {
      "cell_type": "code",
      "execution_count": 6,
      "metadata": {
        "colab": {
          "base_uri": "https://localhost:8080/"
        },
        "id": "T84ODp77J8zR",
        "outputId": "be5656d1-d83c-4e2c-ff99-4cd661011747"
      },
      "outputs": [
        {
          "output_type": "stream",
          "name": "stdout",
          "text": [
            "11\n"
          ]
        }
      ],
      "source": [
        "str=\"Good Morning\"\n",
        "print(len(str)-1)"
      ]
    },
    {
      "cell_type": "markdown",
      "metadata": {
        "id": "FTdxvLc1J0lv"
      },
      "source": [
        "## Write 2 ways to concatinate the string"
      ]
    },
    {
      "cell_type": "code",
      "execution_count": 9,
      "metadata": {
        "id": "j8P9ODeTJ9Zz",
        "colab": {
          "base_uri": "https://localhost:8080/"
        },
        "outputId": "2751db10-d243-4d87-9b36-f8b74fc0cb96"
      },
      "outputs": [
        {
          "output_type": "stream",
          "name": "stdout",
          "text": [
            "Good Morning\n",
            "Good Morning\n"
          ]
        }
      ],
      "source": [
        "str1=\"Good\"\n",
        "str2=\"Morning\"\n",
        "res=str1+\" \"+str2\n",
        "print(res)\n",
        "print(\" \".join([str1,str2]))\n"
      ]
    }
  ],
  "metadata": {
    "colab": {
      "provenance": [],
      "include_colab_link": true
    },
    "kernelspec": {
      "display_name": "Python 3",
      "name": "python3"
    },
    "language_info": {
      "name": "python"
    }
  },
  "nbformat": 4,
  "nbformat_minor": 0
}